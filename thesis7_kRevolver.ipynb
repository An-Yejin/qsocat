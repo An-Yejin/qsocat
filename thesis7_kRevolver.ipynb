{
 "cells": [
  {
   "cell_type": "code",
   "execution_count": 2,
   "id": "0ad3f9d1",
   "metadata": {},
   "outputs": [],
   "source": [
    "from astropy.io import fits\n",
    "from astropy.coordinates import SkyCoord\n",
    "from astropy import units as u\n",
    "import numpy as np\n",
    "from scipy.stats import gaussian_kde\n",
    "from astropy.cosmology import Planck18 as cosmo\n",
    "from scipy.spatial import cKDTree\n",
    "\n",
    "import matplotlib\n",
    "from matplotlib import pyplot as plt\n",
    "\n",
    "import fitsio\n",
    "from scipy.spatial.distance import cdist\n",
    "\n",
    "from sklearn.neighbors import NearestNeighbors\n",
    "from sklearn.neighbors import KernelDensity  \n",
    "\n",
    "from sklearn.neighbors import KNeighborsRegressor\n",
    "from sklearn.impute import KNNImputer\n",
    "from sklearn.metrics import mean_absolute_error, mean_squared_error\n",
    "from sklearn.impute import SimpleImputer\n",
    "from sklearn.preprocessing import StandardScaler\n",
    "from sklearn.model_selection import train_test_split\n",
    "\n",
    "import pandas as pd\n"
   ]
  },
  {
   "cell_type": "markdown",
   "id": "ecef2f66",
   "metadata": {},
   "source": [
    "### Revolver data creating\n",
    "\n",
    "Different redsfhits in cross-matched region\n",
    "\n",
    "    - SDSS redshift \n",
    "    - DESI redshift \n",
    "    - kNN estimated redshift"
   ]
  },
  {
   "cell_type": "code",
   "execution_count": 12,
   "id": "75fc8018",
   "metadata": {},
   "outputs": [],
   "source": [
    "#Quaia redshifts\n",
    "cm = fits.open(\"quaia_G20.5.fits\")\n",
    "cmdata = cm[1].data"
   ]
  },
  {
   "cell_type": "code",
   "execution_count": 13,
   "id": "eb863ff2",
   "metadata": {},
   "outputs": [
    {
     "name": "stdout",
     "output_type": "stream",
     "text": [
      "        source_id      unwise_objid  redshift_quaia  redshift_quaia_err  \\\n",
      "0   6459630980096  0453p000o0014479        0.416867            0.060812   \n",
      "1  10892037246720  0453p000o0015876        1.736468            0.096594   \n",
      "2  15839839588736  0453p000o0017020        1.513049            0.063187   \n",
      "3  19275813399552  0453p000o0024506        2.422632            0.055260   \n",
      "4  22780506725760  0453p000o0016209        2.852854            0.076640   \n",
      "\n",
      "          ra       dec           l          b  phot_g_mean_mag  \\\n",
      "0  44.910498  0.189649  176.659434 -48.835164        20.173105   \n",
      "1  45.188575  0.282424  176.851544 -48.570856        18.787239   \n",
      "2  45.189480  0.359195  176.769129 -48.516842        18.888464   \n",
      "3  44.835496  0.237432  176.527928 -48.855622        20.330523   \n",
      "4  44.799365  0.303557  176.417664 -48.835309        19.218422   \n",
      "\n",
      "   phot_bp_mean_mag  phot_rp_mean_mag  mag_w1_vg  mag_w2_vg        pm  \\\n",
      "0         20.200150         18.871586  14.774343  13.923867  0.383797   \n",
      "1         19.080688         18.240915  15.219950  13.868094  0.155406   \n",
      "2         19.171280         18.509371  15.317786  14.013617  0.448925   \n",
      "3         20.320410         19.841410  17.273508  16.396996  1.085342   \n",
      "4         19.486340         18.814501  16.027142  15.041919  0.523211   \n",
      "\n",
      "       pmra     pmdec  pmra_error  pmdec_error  \n",
      "0  0.217806 -0.316007    0.679419     0.608799  \n",
      "1 -0.098037 -0.120580    0.257395     0.223107  \n",
      "2 -0.316088  0.318781    0.360595     0.326582  \n",
      "3  1.062588  0.221073    0.739487     0.625105  \n",
      "4  0.168237  0.495425    0.361439     0.269473  \n"
     ]
    }
   ],
   "source": [
    "from astropy.table import Table\n",
    "\n",
    "cmdata_table = Table(cmdata)\n",
    "df = cmdata_table.to_pandas()\n",
    "\n",
    "print(df.head())"
   ]
  },
  {
   "cell_type": "code",
   "execution_count": 14,
   "id": "57d3199f",
   "metadata": {},
   "outputs": [
    {
     "name": "stdout",
     "output_type": "stream",
     "text": [
      "0: source_id\n",
      "1: unwise_objid\n",
      "2: redshift_quaia\n",
      "3: redshift_quaia_err\n",
      "4: ra\n",
      "5: dec\n",
      "6: l\n",
      "7: b\n",
      "8: phot_g_mean_mag\n",
      "9: phot_bp_mean_mag\n",
      "10: phot_rp_mean_mag\n",
      "11: mag_w1_vg\n",
      "12: mag_w2_vg\n",
      "13: pm\n",
      "14: pmra\n",
      "15: pmdec\n",
      "16: pmra_error\n",
      "17: pmdec_error\n"
     ]
    }
   ],
   "source": [
    "column_names = cm[1].columns.names\n",
    "for i, name in enumerate(column_names):\n",
    "    print(f\"{i}: {name}\")"
   ]
  },
  {
   "cell_type": "code",
   "execution_count": null,
   "id": "4f359d08",
   "metadata": {},
   "outputs": [],
   "source": []
  }
 ],
 "metadata": {
  "kernelspec": {
   "display_name": "myenv",
   "language": "python",
   "name": "python3"
  },
  "language_info": {
   "codemirror_mode": {
    "name": "ipython",
    "version": 3
   },
   "file_extension": ".py",
   "mimetype": "text/x-python",
   "name": "python",
   "nbconvert_exporter": "python",
   "pygments_lexer": "ipython3",
   "version": "3.12.2"
  }
 },
 "nbformat": 4,
 "nbformat_minor": 5
}
